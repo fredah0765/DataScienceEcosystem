{
 "cells": [
  {
   "cell_type": "markdown",
   "id": "5b5eca48-f0e0-4de3-b129-0b53e08500b7",
   "metadata": {},
   "source": [
    "### Exercise 2: Create a markdown cell with the title\n",
    "# Data Science Tools and Ecosystem\n"
   ]
  },
  {
   "cell_type": "markdown",
   "id": "0b1d1a81-a0b3-4f42-8175-b4b3a055b81f",
   "metadata": {
    "jp-MarkdownHeadingCollapsed": true,
    "tags": []
   },
   "source": [
    "### Exercise 3: Create a markdown cell for an introduction\n",
    "Task: Write an introductory sentence about the notebook such as:  \n",
    "In this notebook, Data Science Tools and Ecosystem are summarized.\n"
   ]
  },
  {
   "cell_type": "markdown",
   "id": "1e65954a-790b-402c-9135-b233a901f6af",
   "metadata": {},
   "source": [
    "### Exercise 10: Insert a markdown cell to list Objectives\n",
    "Task: List 3 to 5 key takeaways or objectives covered in this notebook, starting with \"Objectives:\" in bold font.\n",
    "**Objectives:**\n",
    "- List popular languages for Data Science\n",
    "- List commonly used libraries in Data Science\n",
    "- Examples of arithmetic expressions in Python\n"
   ]
  },
  {
   "cell_type": "markdown",
   "id": "5766f9d5-06c4-4b71-a3a3-72eb3a776259",
   "metadata": {},
   "source": [
    "### Exercise 4: Create a markdown cell to list data science languages\n",
    "Task: List some of the popular languages that Data Scientists use as an ordered list.\n",
    "Some of the popular languages that Data Scientists use are:\n",
    "1. Python\n",
    "2. R\n",
    "3. SQL\n"
   ]
  },
  {
   "cell_type": "markdown",
   "id": "1397848b-3e4b-417a-aecf-9dfe14c88a88",
   "metadata": {},
   "source": [
    "### Exercise 5: Create a markdown cell to list data science libraries\n",
    "Task: List some of the commonly used libraries in data science as an ordered list.\n",
    "Some of the commonly used libraries used by Data Scientists include:\n",
    "1. Pandas\n",
    "2. NumPy\n",
    "3. Matplotlib\n"
   ]
  },
  {
   "cell_type": "markdown",
   "id": "a27f8fc3-e5c1-461f-be28-83b4b9fa07db",
   "metadata": {},
   "source": [
    "### Exercise 6: Create a markdown cell with a table of Data Science tools\n",
    "Task: Create a table with a single column listing Data Science Tools. Include three development environment tools used in data science.\n",
    "| Data Science Tools  |\n",
    "|---------------------|\n",
    "| Jupyter Notebook     |\n",
    "| RStudio              |\n",
    "| Apache Zeppelin      |\n"
   ]
  },
  {
   "cell_type": "markdown",
   "id": "8620a7a0-badd-4535-9645-a84aa35f2948",
   "metadata": {},
   "source": [
    "### Exercise 7: Create a markdown cell introducing arithmetic expression examples\n",
    "Task: Add a line with H3 style heading that introduces arithmetic expressions, such as:  \n",
    "\"Below are a few examples of evaluating arithmetic expressions in Python.\"\n",
    "### Below are a few examples of evaluating arithmetic expressions in Python."
   ]
  },
  {
   "cell_type": "code",
   "execution_count": 6,
   "id": "501caaf0-7d86-48c3-a017-986694acaed8",
   "metadata": {
    "tags": []
   },
   "outputs": [
    {
     "data": {
      "text/plain": [
       "17"
      ]
     },
     "execution_count": 6,
     "metadata": {},
     "output_type": "execute_result"
    }
   ],
   "source": [
    "### Exercise 8: Create a code cell to multiply and add numbers\n",
    "# This a simple arithmetic expression to multiply then add integers\n",
    "(3*4) + 5\n"
   ]
  },
  {
   "cell_type": "code",
   "execution_count": 7,
   "id": "fbfc82d9-8c7f-49b2-a07b-42f8d47c6189",
   "metadata": {
    "tags": []
   },
   "outputs": [
    {
     "data": {
      "text/plain": [
       "3.3333333333333335"
      ]
     },
     "execution_count": 7,
     "metadata": {},
     "output_type": "execute_result"
    }
   ],
   "source": [
    "### Exercise 9: Create a code cell to convert minutes to hours\n",
    "# This will convert 200 minutes to hours by dividing by 60\n",
    "200 / 60\n",
    "\n"
   ]
  },
  {
   "cell_type": "markdown",
   "id": "7a3c8048-64b1-42eb-afa0-4acf7bada220",
   "metadata": {},
   "source": [
    "### Exercise 11: Create a markdown cell to indicate the Author's name\n",
    "Task: Include an H2 style heading with \"Author\" and write your name below it.\n",
    "## Author\n",
    "[Fredah Njagih]\n",
    "\n"
   ]
  }
 ],
 "metadata": {
  "kernelspec": {
   "display_name": "Python",
   "language": "python",
   "name": "conda-env-python-py"
  },
  "language_info": {
   "codemirror_mode": {
    "name": "ipython",
    "version": 3
   },
   "file_extension": ".py",
   "mimetype": "text/x-python",
   "name": "python",
   "nbconvert_exporter": "python",
   "pygments_lexer": "ipython3",
   "version": "3.7.12"
  }
 },
 "nbformat": 4,
 "nbformat_minor": 5
}
